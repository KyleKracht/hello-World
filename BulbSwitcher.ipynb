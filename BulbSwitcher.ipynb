{
 "cells": [
  {
   "cell_type": "code",
   "execution_count": 59,
   "metadata": {
    "collapsed": false
   },
   "outputs": [],
   "source": [
    "def OnOffCounter(n):\n",
    "    x=0\n",
    "    while (x*x)<=n:\n",
    "        print(\"begin loop\")\n",
    "        print(x)\n",
    "        if (x+1)^2<=n:\n",
    "            print(\"i'm increasing\")\n",
    "            x=x+1\n",
    "            print(x)\n",
    "        else:\n",
    "            break\n",
    "\n",
    "    return x"
   ]
  },
  {
   "cell_type": "code",
   "execution_count": 4,
   "metadata": {
    "collapsed": false
   },
   "outputs": [
    {
     "name": "stdout",
     "output_type": "stream",
     "text": [
      "hi\n"
     ]
    }
   ],
   "source": [
    "OnOffCounter()\n"
   ]
  },
  {
   "cell_type": "code",
   "execution_count": 60,
   "metadata": {
    "collapsed": false
   },
   "outputs": [
    {
     "name": "stdout",
     "output_type": "stream",
     "text": [
      "begin loop\n",
      "0\n",
      "i'm increasing\n",
      "1\n",
      "begin loop\n",
      "1\n",
      "i'm increasing\n",
      "2\n",
      "begin loop\n",
      "2\n",
      "i'm increasing\n",
      "3\n",
      "begin loop\n",
      "3\n",
      "i'm increasing\n",
      "4\n",
      "begin loop\n",
      "4\n",
      "i'm increasing\n",
      "5\n",
      "begin loop\n",
      "5\n",
      "i'm increasing\n",
      "6\n",
      "begin loop\n",
      "6\n",
      "i'm increasing\n",
      "7\n",
      "begin loop\n",
      "7\n",
      "i'm increasing\n",
      "8\n",
      "begin loop\n",
      "8\n",
      "i'm increasing\n",
      "9\n",
      "begin loop\n",
      "9\n",
      "i'm increasing\n",
      "10\n",
      "begin loop\n",
      "10\n",
      "i'm increasing\n",
      "11\n"
     ]
    },
    {
     "data": {
      "text/plain": [
       "11"
      ]
     },
     "execution_count": 60,
     "metadata": {},
     "output_type": "execute_result"
    }
   ],
   "source": [
    "OnOffCounter(101)"
   ]
  },
  {
   "cell_type": "code",
   "execution_count": 70,
   "metadata": {
    "collapsed": true
   },
   "outputs": [],
   "source": [
    "def foo(n):\n",
    "    x=0\n",
    "    while (x*x)<=n:\n",
    "        print(\"begin loop\")\n",
    "        print(x)\n",
    "        print((x+1)*(x+1))\n",
    "        if (x+1)*(x+1)<=n:\n",
    "            print(\"i'm increasing\")\n",
    "            x=x+1\n",
    "            print(x)\n",
    "        else:\n",
    "            break\n",
    "    \n",
    "\n",
    "    return x"
   ]
  },
  {
   "cell_type": "code",
   "execution_count": 71,
   "metadata": {
    "collapsed": false
   },
   "outputs": [
    {
     "name": "stdout",
     "output_type": "stream",
     "text": [
      "begin loop\n",
      "0\n",
      "1\n",
      "i'm increasing\n",
      "1\n",
      "begin loop\n",
      "1\n",
      "4\n",
      "i'm increasing\n",
      "2\n",
      "begin loop\n",
      "2\n",
      "9\n"
     ]
    },
    {
     "data": {
      "text/plain": [
       "2"
      ]
     },
     "execution_count": 71,
     "metadata": {},
     "output_type": "execute_result"
    }
   ],
   "source": [
    "foo(5)\n"
   ]
  },
  {
   "cell_type": "code",
   "execution_count": null,
   "metadata": {
    "collapsed": true
   },
   "outputs": [],
   "source": []
  }
 ],
 "metadata": {
  "anaconda-cloud": {},
  "kernelspec": {
   "display_name": "Python [Root]",
   "language": "python",
   "name": "Python [Root]"
  },
  "language_info": {
   "codemirror_mode": {
    "name": "ipython",
    "version": 3
   },
   "file_extension": ".py",
   "mimetype": "text/x-python",
   "name": "python",
   "nbconvert_exporter": "python",
   "pygments_lexer": "ipython3",
   "version": "3.5.2"
  }
 },
 "nbformat": 4,
 "nbformat_minor": 0
}
